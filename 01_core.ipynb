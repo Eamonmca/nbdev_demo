{
 "cells": [
  {
   "cell_type": "code",
   "execution_count": null,
   "metadata": {},
   "outputs": [],
   "source": [
    "# default_exp core"
   ]
  },
  {
   "cell_type": "code",
   "execution_count": null,
   "metadata": {},
   "outputs": [
    {
     "name": "stdout",
     "output_type": "stream",
     "text": [
      "The autoreload extension is already loaded. To reload it, use:\n",
      "  %reload_ext autoreload\n"
     ]
    }
   ],
   "source": [
    "#hide\n",
    "from nbdev.showdoc import *\n",
    "%load_ext autoreload\n",
    "%autoreload 2"
   ]
  },
  {
   "cell_type": "markdown",
   "metadata": {},
   "source": [
    "# Scan Class\n",
    "> A python class object representing a 3D volume"
   ]
  },
  {
   "cell_type": "code",
   "execution_count": null,
   "metadata": {},
   "outputs": [],
   "source": [
    "#export\n",
    "\n",
    "class Scan:\n",
    "    \"\"\"Represents a medical imaging single 3D volume.\n",
    "    \n",
    "    Attributes:\n",
    "        title: str\n",
    "        dcm_series: series of dcm files containing volume\n",
    "    \"\"\"\n",
    "    \n",
    "    def __init__(self, title, dcm_series):\n",
    "        vol, pix_dim, affine = dicom_to_volume(dcm_series)\n",
    "        self.title = title\n",
    "        self.dcm_series = dcm_series\n",
    "        self.vol = vol\n",
    "        self.pix_dim = pix_dim\n",
    "        self.affine = affine\n",
    "        \n",
    "    \n",
    "    \n",
    "    def getName(self):\n",
    "        return self.__class__.__name__\n",
    "         \n",
    "    def write_nifti(self, output_path):\n",
    "        nifti_file = nibabel.Nifti1Image(self.vol, self.affine)\n",
    "        output_path = f\"{output_path}/{self.title}.nii.gz\"\n",
    "        nibabel.save(nifti_file, output_path)\n",
    "    \n",
    "        return output_path"
   ]
  },
  {
   "cell_type": "code",
   "execution_count": null,
   "metadata": {},
   "outputs": [],
   "source": []
  },
  {
   "cell_type": "code",
   "execution_count": null,
   "metadata": {},
   "outputs": [
    {
     "name": "stdout",
     "output_type": "stream",
     "text": [
      "Converted 00_core.ipynb.\n",
      "Converted 01_core.ipynb.\n",
      "Converted index.ipynb.\n"
     ]
    }
   ],
   "source": [
    "from nbdev.export import notebook2script; notebook2script()\n"
   ]
  },
  {
   "cell_type": "code",
   "execution_count": null,
   "metadata": {},
   "outputs": [],
   "source": []
  },
  {
   "cell_type": "code",
   "execution_count": null,
   "metadata": {},
   "outputs": [],
   "source": []
  },
  {
   "cell_type": "code",
   "execution_count": null,
   "metadata": {},
   "outputs": [],
   "source": []
  }
 ],
 "metadata": {
  "kernelspec": {
   "display_name": "Python 3.9.13 ('ml2')",
   "language": "python",
   "name": "python3"
  }
 },
 "nbformat": 4,
 "nbformat_minor": 2
}
