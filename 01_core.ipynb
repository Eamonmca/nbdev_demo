{
 "cells": [
  {
   "cell_type": "code",
   "execution_count": null,
   "metadata": {},
   "outputs": [],
   "source": [
    "# default_exp core\n"
   ]
  },
  {
   "cell_type": "code",
   "execution_count": null,
   "metadata": {},
   "outputs": [
    {
     "name": "stdout",
     "output_type": "stream",
     "text": [
      "The autoreload extension is already loaded. To reload it, use:\n",
      "  %reload_ext autoreload\n"
     ]
    }
   ],
   "source": [
    "#hide\n",
    "from nbdev.showdoc import *\n",
    "from nbdev_demo import utils\n",
    "%load_ext autoreload\n",
    "%autoreload 2"
   ]
  },
  {
   "cell_type": "markdown",
   "metadata": {},
   "source": [
    "# Scan \n",
    "> A python class object representing a 3D volume"
   ]
  },
  {
   "cell_type": "code",
   "execution_count": null,
   "metadata": {},
   "outputs": [],
   "source": [
    "#export\n",
    "\n",
    "class Scan:\n",
    "    \"\"\"Represents a medical imaging single 3D volume.\n",
    "    \n",
    "    Attributes:\n",
    "        title: str represnting name of volume\n",
    "        \n",
    "        dcm_series: series of dcm files containing volume\n",
    "    \"\"\"\n",
    "    \n",
    "    def __init__(self, title, dcm_series):\n",
    "        vol, pix_dim, affine = dicom_to_volume(dcm_series)\n",
    "        self.title = title\n",
    "        self.dcm_series = dcm_series\n",
    "        self.vol = vol\n",
    "        self.pix_dim = pix_dim\n",
    "        self.affine = affine\n",
    "        \n",
    "    \n",
    "    \n",
    "    def getName(self):\n",
    "        return self.__class__.__name__\n",
    "         \n",
    "    def write_nifti(self, output_path):\n",
    "        \"\"\" **Writes a Nfiti file of 3D volume to a specified output path.**\n",
    "\n",
    "        Args:\n",
    "            output_path (_path_ or _str_): _Desired output path of Nifti file_\n",
    "\n",
    "        Returns:\n",
    "            _path_: _Path to which the Nifti file has been written_\n",
    "        \"\"\"\n",
    "        \n",
    "        nifti_file = nibabel.Nifti1Image(self.vol, self.affine)\n",
    "        output_path = f\"{output_path}/{self.title}.nii.gz\"\n",
    "        nibabel.save(nifti_file, output_path)\n",
    "    \n",
    "        return output_path\n",
    "    \n",
    "    def display_3D_volume(self, fig=False):\n",
    "        \"\"\" **Disolay a 2D representation of the 3D volume**\n",
    "\n",
    "            Args:\n",
    "            fig (bool, optional): _description. toggle show in place \n",
    "            or fig object. Defaults to False._\n",
    "\n",
    "        Returns:\n",
    "            _fig_: Figure\n",
    "        \"\"\"\n",
    "        \n",
    "        if utils.is_notebook:\n",
    "            pio.renderers.default = 'notebook_connected'\n",
    "\n",
    "        img = self.vol\n",
    "        fig = px.imshow(img, animation_frame=0, binary_string=True, labels=dict(animation_frame=\"slice\"), title= \"CT_SCAN\",)\n",
    "        fig.layout.updatemenus[0].buttons[0].args[1][\"frame\"][\"duration\"] = 50\n",
    "        \n",
    "        \n",
    "\n",
    "        if fig :\n",
    "            return fig\n",
    "        else:\n",
    "            return fig.show()\n",
    "    \n",
    "    \n",
    "    \n",
    "    def __repr__(self):\n",
    "        return f\"Scan Object titled {self.title}, with dimensions {self.vol.shape}\""
   ]
  },
  {
   "cell_type": "code",
   "execution_count": null,
   "metadata": {},
   "outputs": [
    {
     "data": {
      "text/markdown": [
       "<h4 id=\"Scan.write_nifti\" class=\"doc_header\"><code>Scan.write_nifti</code><a href=\"__main__.py#L25\" class=\"source_link\" style=\"float:right\">[source]</a></h4>\n",
       "\n",
       "> <code>Scan.write_nifti</code>(**`output_path`**)\n",
       "\n",
       "**Writes a Nfiti file of 3D volume to a specified output path.**\n",
       "\n",
       "Args:\n",
       "    output_path (_path_ or _str_): _Desired output path of Nifti file_\n",
       "\n",
       "Returns:\n",
       "    _path_: _Path to which the Nifti file has been written_"
      ],
      "text/plain": [
       "<IPython.core.display.Markdown object>"
      ]
     },
     "metadata": {},
     "output_type": "display_data"
    },
    {
     "data": {
      "text/markdown": [
       "<h4 id=\"Scan.display_3D_volume\" class=\"doc_header\"><code>Scan.display_3D_volume</code><a href=\"__main__.py#L41\" class=\"source_link\" style=\"float:right\">[source]</a></h4>\n",
       "\n",
       "> <code>Scan.display_3D_volume</code>(**`fig`**=*`False`*)\n",
       "\n",
       "**Disolay a 2D representation of the 3D volume**\n",
       "\n",
       "    Args:\n",
       "    fig (bool, optional): _description_. toggle show in place \n",
       "    or fig object. Defaults to False.\n",
       "\n",
       "Returns:\n",
       "    _type_: Figure"
      ],
      "text/plain": [
       "<IPython.core.display.Markdown object>"
      ]
     },
     "metadata": {},
     "output_type": "display_data"
    }
   ],
   "source": [
    "show_doc(Scan.write_nifti)\n",
    "show_doc(Scan.display_3D_volume)"
   ]
  },
  {
   "cell_type": "code",
   "execution_count": null,
   "metadata": {},
   "outputs": [
    {
     "name": "stdout",
     "output_type": "stream",
     "text": [
      "Converted 00_core.ipynb.\n",
      "Converted 01_core.ipynb.\n",
      "Converted 02_core.ipynb.\n",
      "Converted index.ipynb.\n"
     ]
    }
   ],
   "source": [
    "#hide\n",
    "from nbdev.export import notebook2script; notebook2script()\n"
   ]
  },
  {
   "cell_type": "code",
   "execution_count": null,
   "metadata": {},
   "outputs": [],
   "source": []
  },
  {
   "cell_type": "code",
   "execution_count": null,
   "metadata": {},
   "outputs": [],
   "source": []
  },
  {
   "cell_type": "code",
   "execution_count": null,
   "metadata": {},
   "outputs": [],
   "source": []
  }
 ],
 "metadata": {
  "kernelspec": {
   "display_name": "Python 3.9.13 ('ml2')",
   "language": "python",
   "name": "python3"
  }
 },
 "nbformat": 4,
 "nbformat_minor": 2
}
